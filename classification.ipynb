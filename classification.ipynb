{
 "cells": [
  {
   "cell_type": "markdown",
   "id": "3bbdf826",
   "metadata": {},
   "source": [
    "# Business Problem\n",
    "\n",
    "This project intends to increase adoption and open up a new revenue stream from an underutilised feature, this initiative aims to assist telecommunication operators in Kenya in identifying the clients who are most likely to use voicemail services."
   ]
  },
  {
   "cell_type": "markdown",
   "id": "1eda29ff",
   "metadata": {},
   "source": [
    "# Business Understanding\n",
    "\n",
    "Despite its potential to improve customer communication and increase revenue for telecommunication carriers, voicemail is still a function that mobile users in Kenya underutilise.  The goal of this research is to assist telecommunication providers in determining which clients are more likely to use voicemail services.  The company may create customised advertisements that market voicemail to the appropriate audience by knowing the usage habits and characteristics of its customers.  In a competitive telecommunication market, this strategy boosts service adoption, encourages customer involvement, and creates a new source of income."
   ]
  },
  {
   "cell_type": "markdown",
   "id": "e4d21bcf",
   "metadata": {},
   "source": [
    "# Data Understanding"
   ]
  },
  {
   "cell_type": "markdown",
   "id": "adcf77dd",
   "metadata": {},
   "source": [
    "The dataset includes data about customers from a telecommunication operator, such as plan kinds, use trends, and interactions with customer support.  There are 3,333 rows and 21 columns.\n",
    "- Our target variable is `voice mail plan` and it shows if a customer subscribes to a voicemail plan or not\n",
    "- Our features(Independent variables) are `account length`, `international plan`, `total intl minutes`, `total intl calls`, `total intl charge` "
   ]
  },
  {
   "cell_type": "markdown",
   "id": "6eb59c2c",
   "metadata": {},
   "source": [
    "# Data Preparation"
   ]
  },
  {
   "cell_type": "code",
   "execution_count": 1,
   "id": "ca48d14f",
   "metadata": {},
   "outputs": [],
   "source": [
    "# importing the necessary libraries\n",
    "import pandas as pd\n",
    "import numpy as np\n",
    "from sklearn.model_selection import train_test_split\n",
    "from sklearn.preprocessing import StandardScaler\n",
    "from sklearn.linear_model import LogisticRegression\n",
    "from sklearn.metrics import classification_report, confusion_matrix\n"
   ]
  },
  {
   "cell_type": "code",
   "execution_count": 2,
   "id": "d56a6530",
   "metadata": {},
   "outputs": [],
   "source": [
    "# Load the data\n",
    "df = pd.read_csv(\"bigml_59c28831336c6604c800002a.csv\")"
   ]
  },
  {
   "cell_type": "code",
   "execution_count": 3,
   "id": "f1220f46",
   "metadata": {},
   "outputs": [],
   "source": [
    "# Drop irrelevant or leakage columns\n",
    "df = df.drop(columns=['phone number', 'state', 'area code', 'number vmail messages', 'churn'])"
   ]
  },
  {
   "cell_type": "code",
   "execution_count": 4,
   "id": "2eb76a28",
   "metadata": {},
   "outputs": [],
   "source": [
    "# Encode binary categorical variables\n",
    "df['voice mail plan'] = df['voice mail plan'].map({'yes': 1, 'no': 0})\n",
    "df['international plan'] = df['international plan'].map({'yes': 1, 'no': 0})"
   ]
  },
  {
   "cell_type": "code",
   "execution_count": 5,
   "id": "171f7468",
   "metadata": {},
   "outputs": [],
   "source": [
    "# Define features and target\n",
    "X = df.drop(columns='voice mail plan')\n",
    "y = df['voice mail plan']"
   ]
  },
  {
   "cell_type": "code",
   "execution_count": 6,
   "id": "d9a5a8fc",
   "metadata": {},
   "outputs": [],
   "source": [
    "# Split into train and test sets\n",
    "X_train, X_test, y_train, y_test = train_test_split(X, y, test_size=0.2, random_state=42)"
   ]
  },
  {
   "cell_type": "code",
   "execution_count": 7,
   "id": "05792ee4",
   "metadata": {},
   "outputs": [],
   "source": [
    "# Scale numeric features\n",
    "scaler = StandardScaler()\n",
    "X_train_scaled = scaler.fit_transform(X_train)\n",
    "X_test_scaled = scaler.transform(X_test)"
   ]
  },
  {
   "cell_type": "code",
   "execution_count": 8,
   "id": "c8fd8a58",
   "metadata": {},
   "outputs": [],
   "source": [
    "# Optional: convert back to DataFrame for readability\n",
    "X_train_scaled = pd.DataFrame(X_train_scaled, columns=X.columns)\n",
    "X_test_scaled = pd.DataFrame(X_test_scaled, columns=X.columns)"
   ]
  },
  {
   "cell_type": "code",
   "execution_count": 9,
   "id": "1d28606c",
   "metadata": {},
   "outputs": [
    {
     "name": "stdout",
     "output_type": "stream",
     "text": [
      "Train shape: (2666, 15)\n",
      "Test shape: (667, 15)\n"
     ]
    }
   ],
   "source": [
    "# Confirm dimensions\n",
    "print(\"Train shape:\", X_train_scaled.shape)\n",
    "print(\"Test shape:\", X_test_scaled.shape)"
   ]
  },
  {
   "cell_type": "markdown",
   "id": "28face9b",
   "metadata": {},
   "source": [
    "# Testing code"
   ]
  },
  {
   "cell_type": "markdown",
   "id": "41721f71",
   "metadata": {},
   "source": [
    "# Modelling"
   ]
  },
  {
   "cell_type": "markdown",
   "id": "758922dc",
   "metadata": {},
   "source": [
    "# Evaluation"
   ]
  }
 ],
 "metadata": {
  "kernelspec": {
   "display_name": "learn-env",
   "language": "python",
   "name": "python3"
  },
  "language_info": {
   "codemirror_mode": {
    "name": "ipython",
    "version": 3
   },
   "file_extension": ".py",
   "mimetype": "text/x-python",
   "name": "python",
   "nbconvert_exporter": "python",
   "pygments_lexer": "ipython3",
   "version": "3.8.5"
  }
 },
 "nbformat": 4,
 "nbformat_minor": 5
}
